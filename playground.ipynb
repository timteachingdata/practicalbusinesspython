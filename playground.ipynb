{
 "cells": [
  {
   "cell_type": "code",
   "execution_count": 18,
   "id": "33e3b49c",
   "metadata": {},
   "outputs": [],
   "source": [
    "import os\n"
   ]
  },
  {
   "cell_type": "code",
   "execution_count": 7,
   "id": "c8bb20a2",
   "metadata": {},
   "outputs": [
    {
     "ename": "FileExistsError",
     "evalue": "[Errno 17] File exists: '../../workspaces/practicalbusinesspython'",
     "output_type": "error",
     "traceback": [
      "\u001b[0;31m---------------------------------------------------------------------------\u001b[0m",
      "\u001b[0;31mFileExistsError\u001b[0m                           Traceback (most recent call last)",
      "\u001b[1;32m/workspaces/practicalbusinesspython/playground.ipynb Cell 2\u001b[0m line \u001b[0;36m1\n\u001b[0;32m----> <a href='vscode-notebook-cell://codespaces%2Bimproved-space-barnacle-r94wrqw59rr2xxj9/workspaces/practicalbusinesspython/playground.ipynb#W1sdnNjb2RlLXJlbW90ZQ%3D%3D?line=0'>1</a>\u001b[0m os\u001b[39m.\u001b[39;49mmkdir(\u001b[39m'\u001b[39;49m\u001b[39m../../workspaces/practicalbusinesspython\u001b[39;49m\u001b[39m'\u001b[39;49m)\n",
      "\u001b[0;31mFileExistsError\u001b[0m: [Errno 17] File exists: '../../workspaces/practicalbusinesspython'"
     ]
    }
   ],
   "source": [
    "os.mkdir('../../workspaces/practicalbusinesspython')"
   ]
  },
  {
   "cell_type": "code",
   "execution_count": 19,
   "id": "60c87e57",
   "metadata": {},
   "outputs": [
    {
     "data": {
      "text/plain": [
       "'/workspaces/practicalbusinesspython'"
      ]
     },
     "execution_count": 19,
     "metadata": {},
     "output_type": "execute_result"
    }
   ],
   "source": [
    "os.getcwd()"
   ]
  },
  {
   "cell_type": "code",
   "execution_count": 8,
   "id": "812599b6",
   "metadata": {},
   "outputs": [
    {
     "data": {
      "text/plain": [
       "'/workspaces/practicalbusinesspython'"
      ]
     },
     "execution_count": 8,
     "metadata": {},
     "output_type": "execute_result"
    }
   ],
   "source": [
    "os.getcwd()"
   ]
  },
  {
   "cell_type": "code",
   "execution_count": null,
   "id": "d7ed3bb0",
   "metadata": {},
   "outputs": [],
   "source": [
    "os.path.basename('a/b/dsad/asddsdaplo/p')"
   ]
  },
  {
   "cell_type": "code",
   "execution_count": null,
   "id": "acc2fe82",
   "metadata": {},
   "outputs": [],
   "source": [
    "'a/b/dsad/asddsdaplo/p'.split('/')[-1]"
   ]
  },
  {
   "cell_type": "code",
   "execution_count": 11,
   "id": "590641a3",
   "metadata": {},
   "outputs": [],
   "source": [
    "import numpy as np"
   ]
  },
  {
   "cell_type": "code",
   "execution_count": 12,
   "id": "4e8ef425",
   "metadata": {},
   "outputs": [],
   "source": [
    "def is_prime(num):\n",
    "    \n",
    "    for i in range(2, int(np.sqrt(num)) + 1):\n",
    "        if num % i:\n",
    "            return False\n",
    "    return True"
   ]
  },
  {
   "cell_type": "code",
   "execution_count": 13,
   "id": "f20cfb15",
   "metadata": {},
   "outputs": [],
   "source": [
    "def generate_primes():\n",
    "    \n",
    "    p = 2\n",
    "    yield p\n",
    "    p += 1\n",
    "    while True:\n",
    "        if is_prime(p):\n",
    "            yield p\n",
    "        p += 1"
   ]
  },
  {
   "cell_type": "code",
   "execution_count": 14,
   "id": "062ce26f",
   "metadata": {},
   "outputs": [],
   "source": [
    "gen = generate_primes()"
   ]
  },
  {
   "cell_type": "code",
   "execution_count": 15,
   "id": "19074c0b",
   "metadata": {},
   "outputs": [
    {
     "name": "stdout",
     "output_type": "stream",
     "text": [
      "2\n",
      "3\n",
      "4\n",
      "6\n",
      "8\n",
      "12\n",
      "24\n"
     ]
    },
    {
     "ename": "KeyboardInterrupt",
     "evalue": "",
     "output_type": "error",
     "traceback": [
      "\u001b[0;31m---------------------------------------------------------------------------\u001b[0m",
      "\u001b[0;31mKeyboardInterrupt\u001b[0m                         Traceback (most recent call last)",
      "\u001b[1;32m/workspaces/practicalbusinesspython/playground.ipynb Cell 11\u001b[0m line \u001b[0;36m2\n\u001b[1;32m      <a href='vscode-notebook-cell://codespaces%2Bimproved-space-barnacle-r94wrqw59rr2xxj9/workspaces/practicalbusinesspython/playground.ipynb#X13sdnNjb2RlLXJlbW90ZQ%3D%3D?line=0'>1</a>\u001b[0m \u001b[39mfor\u001b[39;00m _ \u001b[39min\u001b[39;00m \u001b[39mrange\u001b[39m(\u001b[39m100\u001b[39m):\n\u001b[0;32m----> <a href='vscode-notebook-cell://codespaces%2Bimproved-space-barnacle-r94wrqw59rr2xxj9/workspaces/practicalbusinesspython/playground.ipynb#X13sdnNjb2RlLXJlbW90ZQ%3D%3D?line=1'>2</a>\u001b[0m     \u001b[39mprint\u001b[39m(\u001b[39mnext\u001b[39;49m(gen))\n",
      "\u001b[1;32m/workspaces/practicalbusinesspython/playground.ipynb Cell 11\u001b[0m line \u001b[0;36m7\n\u001b[1;32m      <a href='vscode-notebook-cell://codespaces%2Bimproved-space-barnacle-r94wrqw59rr2xxj9/workspaces/practicalbusinesspython/playground.ipynb#X13sdnNjb2RlLXJlbW90ZQ%3D%3D?line=4'>5</a>\u001b[0m p \u001b[39m+\u001b[39m\u001b[39m=\u001b[39m \u001b[39m1\u001b[39m\n\u001b[1;32m      <a href='vscode-notebook-cell://codespaces%2Bimproved-space-barnacle-r94wrqw59rr2xxj9/workspaces/practicalbusinesspython/playground.ipynb#X13sdnNjb2RlLXJlbW90ZQ%3D%3D?line=5'>6</a>\u001b[0m \u001b[39mwhile\u001b[39;00m \u001b[39mTrue\u001b[39;00m:\n\u001b[0;32m----> <a href='vscode-notebook-cell://codespaces%2Bimproved-space-barnacle-r94wrqw59rr2xxj9/workspaces/practicalbusinesspython/playground.ipynb#X13sdnNjb2RlLXJlbW90ZQ%3D%3D?line=6'>7</a>\u001b[0m     \u001b[39mif\u001b[39;00m is_prime(p):\n\u001b[1;32m      <a href='vscode-notebook-cell://codespaces%2Bimproved-space-barnacle-r94wrqw59rr2xxj9/workspaces/practicalbusinesspython/playground.ipynb#X13sdnNjb2RlLXJlbW90ZQ%3D%3D?line=7'>8</a>\u001b[0m         \u001b[39myield\u001b[39;00m p\n\u001b[1;32m      <a href='vscode-notebook-cell://codespaces%2Bimproved-space-barnacle-r94wrqw59rr2xxj9/workspaces/practicalbusinesspython/playground.ipynb#X13sdnNjb2RlLXJlbW90ZQ%3D%3D?line=8'>9</a>\u001b[0m     p \u001b[39m+\u001b[39m\u001b[39m=\u001b[39m \u001b[39m1\u001b[39m\n",
      "\u001b[1;32m/workspaces/practicalbusinesspython/playground.ipynb Cell 11\u001b[0m line \u001b[0;36m3\n\u001b[1;32m      <a href='vscode-notebook-cell://codespaces%2Bimproved-space-barnacle-r94wrqw59rr2xxj9/workspaces/practicalbusinesspython/playground.ipynb#X13sdnNjb2RlLXJlbW90ZQ%3D%3D?line=0'>1</a>\u001b[0m \u001b[39mdef\u001b[39;00m \u001b[39mis_prime\u001b[39m(num):\n\u001b[0;32m----> <a href='vscode-notebook-cell://codespaces%2Bimproved-space-barnacle-r94wrqw59rr2xxj9/workspaces/practicalbusinesspython/playground.ipynb#X13sdnNjb2RlLXJlbW90ZQ%3D%3D?line=2'>3</a>\u001b[0m     \u001b[39mfor\u001b[39;00m i \u001b[39min\u001b[39;00m \u001b[39mrange\u001b[39m(\u001b[39m2\u001b[39m, \u001b[39mint\u001b[39m(np\u001b[39m.\u001b[39;49msqrt(num)) \u001b[39m+\u001b[39m \u001b[39m1\u001b[39m):\n\u001b[1;32m      <a href='vscode-notebook-cell://codespaces%2Bimproved-space-barnacle-r94wrqw59rr2xxj9/workspaces/practicalbusinesspython/playground.ipynb#X13sdnNjb2RlLXJlbW90ZQ%3D%3D?line=3'>4</a>\u001b[0m         \u001b[39mif\u001b[39;00m num \u001b[39m%\u001b[39m i:\n\u001b[1;32m      <a href='vscode-notebook-cell://codespaces%2Bimproved-space-barnacle-r94wrqw59rr2xxj9/workspaces/practicalbusinesspython/playground.ipynb#X13sdnNjb2RlLXJlbW90ZQ%3D%3D?line=4'>5</a>\u001b[0m             \u001b[39mreturn\u001b[39;00m \u001b[39mFalse\u001b[39;00m\n",
      "\u001b[0;31mKeyboardInterrupt\u001b[0m: "
     ]
    }
   ],
   "source": [
    "for _ in range(100):\n",
    "    print(next(gen))"
   ]
  },
  {
   "cell_type": "code",
   "execution_count": 16,
   "id": "645537e1",
   "metadata": {},
   "outputs": [],
   "source": [
    "with open(\"Leukbestandje.txt\", \"r\") as file:\n",
    "    inhoud = file.read()\n",
    "    lijnen = inhoud.split('\\n')"
   ]
  },
  {
   "cell_type": "code",
   "execution_count": 17,
   "id": "6d1d4417",
   "metadata": {},
   "outputs": [
    {
     "data": {
      "text/plain": [
       "['0^2=0!',\n",
       " '1^2=1!',\n",
       " '2^2=4!',\n",
       " '3^2=9!',\n",
       " '4^2=16!',\n",
       " '5^2=25!',\n",
       " '6^2=36!',\n",
       " '7^2=49!',\n",
       " '8^2=64!',\n",
       " '9^2=81!',\n",
       " '10^2=100!',\n",
       " '11^2=121!',\n",
       " '12^2=144!',\n",
       " '13^2=169!',\n",
       " '14^2=196!',\n",
       " '15^2=225!',\n",
       " '16^2=256!',\n",
       " '17^2=289!',\n",
       " '18^2=324!',\n",
       " '19^2=361!',\n",
       " '20^2=400!',\n",
       " '21^2=441!',\n",
       " '22^2=484!',\n",
       " '23^2=529!',\n",
       " '24^2=576!',\n",
       " '25^2=625!',\n",
       " '26^2=676!',\n",
       " '27^2=729!',\n",
       " '28^2=784!',\n",
       " '29^2=841!',\n",
       " '30^2=900!',\n",
       " '31^2=961!',\n",
       " '32^2=1024!',\n",
       " '33^2=1089!',\n",
       " '34^2=1156!',\n",
       " '35^2=1225!',\n",
       " '36^2=1296!',\n",
       " '37^2=1369!',\n",
       " '38^2=1444!',\n",
       " '39^2=1521!',\n",
       " '40^2=1600!',\n",
       " '41^2=1681!',\n",
       " '42^2=1764!',\n",
       " '43^2=1849!',\n",
       " '44^2=1936!',\n",
       " '45^2=2025!',\n",
       " '46^2=2116!',\n",
       " '47^2=2209!',\n",
       " '48^2=2304!',\n",
       " '49^2=2401!',\n",
       " '50^2=2500!',\n",
       " '51^2=2601!',\n",
       " '52^2=2704!',\n",
       " '53^2=2809!',\n",
       " '54^2=2916!',\n",
       " '55^2=3025!',\n",
       " '56^2=3136!',\n",
       " '57^2=3249!',\n",
       " '58^2=3364!',\n",
       " '59^2=3481!',\n",
       " '60^2=3600!',\n",
       " '61^2=3721!',\n",
       " '62^2=3844!',\n",
       " '63^2=3969!',\n",
       " '64^2=4096!',\n",
       " '65^2=4225!',\n",
       " '66^2=4356!',\n",
       " '67^2=4489!',\n",
       " '68^2=4624!',\n",
       " '69^2=4761!',\n",
       " '70^2=4900!',\n",
       " '71^2=5041!',\n",
       " '72^2=5184!',\n",
       " '73^2=5329!',\n",
       " '74^2=5476!',\n",
       " '75^2=5625!',\n",
       " '76^2=5776!',\n",
       " '77^2=5929!',\n",
       " '78^2=6084!',\n",
       " '79^2=6241!',\n",
       " '80^2=6400!',\n",
       " '81^2=6561!',\n",
       " '82^2=6724!',\n",
       " '83^2=6889!',\n",
       " '84^2=7056!',\n",
       " '85^2=7225!',\n",
       " '86^2=7396!',\n",
       " '87^2=7569!',\n",
       " '88^2=7744!',\n",
       " '89^2=7921!',\n",
       " '90^2=8100!',\n",
       " '91^2=8281!',\n",
       " '92^2=8464!',\n",
       " '93^2=8649!',\n",
       " '94^2=8836!',\n",
       " '95^2=9025!',\n",
       " '96^2=9216!',\n",
       " '97^2=9409!',\n",
       " '98^2=9604!',\n",
       " '99^2=9801!',\n",
       " '0^2=0!',\n",
       " '1^2=1!',\n",
       " '2^2=4!',\n",
       " '3^2=9!',\n",
       " '4^2=16!',\n",
       " '5^2=25!',\n",
       " '6^2=36!',\n",
       " '7^2=49!',\n",
       " '8^2=64!',\n",
       " '9^2=81!',\n",
       " '10^2=100!',\n",
       " '11^2=121!',\n",
       " '12^2=144!',\n",
       " '13^2=169!',\n",
       " '14^2=196!',\n",
       " '15^2=225!',\n",
       " '16^2=256!',\n",
       " '17^2=289!',\n",
       " '18^2=324!',\n",
       " '19^2=361!',\n",
       " '20^2=400!',\n",
       " '21^2=441!',\n",
       " '22^2=484!',\n",
       " '23^2=529!',\n",
       " '24^2=576!',\n",
       " '25^2=625!',\n",
       " '26^2=676!',\n",
       " '27^2=729!',\n",
       " '28^2=784!',\n",
       " '29^2=841!',\n",
       " '30^2=900!',\n",
       " '31^2=961!',\n",
       " '32^2=1024!',\n",
       " '33^2=1089!',\n",
       " '34^2=1156!',\n",
       " '35^2=1225!',\n",
       " '36^2=1296!',\n",
       " '37^2=1369!',\n",
       " '38^2=1444!',\n",
       " '39^2=1521!',\n",
       " '40^2=1600!',\n",
       " '41^2=1681!',\n",
       " '42^2=1764!',\n",
       " '43^2=1849!',\n",
       " '44^2=1936!',\n",
       " '45^2=2025!',\n",
       " '46^2=2116!',\n",
       " '47^2=2209!',\n",
       " '48^2=2304!',\n",
       " '49^2=2401!',\n",
       " '50^2=2500!',\n",
       " '51^2=2601!',\n",
       " '52^2=2704!',\n",
       " '53^2=2809!',\n",
       " '54^2=2916!',\n",
       " '55^2=3025!',\n",
       " '56^2=3136!',\n",
       " '57^2=3249!',\n",
       " '58^2=3364!',\n",
       " '59^2=3481!',\n",
       " '60^2=3600!',\n",
       " '61^2=3721!',\n",
       " '62^2=3844!',\n",
       " '63^2=3969!',\n",
       " '64^2=4096!',\n",
       " '65^2=4225!',\n",
       " '66^2=4356!',\n",
       " '67^2=4489!',\n",
       " '68^2=4624!',\n",
       " '69^2=4761!',\n",
       " '70^2=4900!',\n",
       " '71^2=5041!',\n",
       " '72^2=5184!',\n",
       " '73^2=5329!',\n",
       " '74^2=5476!',\n",
       " '75^2=5625!',\n",
       " '76^2=5776!',\n",
       " '77^2=5929!',\n",
       " '78^2=6084!',\n",
       " '79^2=6241!',\n",
       " '80^2=6400!',\n",
       " '81^2=6561!',\n",
       " '82^2=6724!',\n",
       " '83^2=6889!',\n",
       " '84^2=7056!',\n",
       " '85^2=7225!',\n",
       " '86^2=7396!',\n",
       " '87^2=7569!',\n",
       " '88^2=7744!',\n",
       " '89^2=7921!',\n",
       " '90^2=8100!',\n",
       " '91^2=8281!',\n",
       " '92^2=8464!',\n",
       " '93^2=8649!',\n",
       " '94^2=8836!',\n",
       " '95^2=9025!',\n",
       " '96^2=9216!',\n",
       " '97^2=9409!',\n",
       " '98^2=9604!',\n",
       " '99^2=9801!',\n",
       " 'a']"
      ]
     },
     "execution_count": 17,
     "metadata": {},
     "output_type": "execute_result"
    }
   ],
   "source": [
    "lijnen"
   ]
  },
  {
   "cell_type": "code",
   "execution_count": null,
   "id": "5d3e5fed",
   "metadata": {},
   "outputs": [],
   "source": [
    "file.write(\"a\")"
   ]
  },
  {
   "cell_type": "code",
   "execution_count": null,
   "id": "0d6a2e78",
   "metadata": {},
   "outputs": [],
   "source": [
    "file.read()"
   ]
  },
  {
   "cell_type": "code",
   "execution_count": null,
   "id": "4c69c010",
   "metadata": {},
   "outputs": [],
   "source": [
    "import json"
   ]
  },
  {
   "cell_type": "code",
   "execution_count": null,
   "id": "49b6e569",
   "metadata": {},
   "outputs": [],
   "source": [
    "inhoud_van_json = {}\n",
    "for i in range(100):\n",
    "    inhoud_van_json[f\"De {i}de key van mijn dictionary\"] = [i ** 2, i**3, i**4]\n",
    "with open(\"mijneerstejsonbestandje.json\", \"w\") as huppeldepup:\n",
    "    json.dump(inhoud_van_json, huppeldepup, indent = 4)"
   ]
  },
  {
   "cell_type": "code",
   "execution_count": null,
   "id": "4eb37cd3",
   "metadata": {},
   "outputs": [],
   "source": [
    "inhoud_van_json"
   ]
  },
  {
   "cell_type": "code",
   "execution_count": null,
   "id": "1a3e6c1c",
   "metadata": {},
   "outputs": [],
   "source": [
    "with open(\"mijneerstejsonbestandje.json\", \"r\") as huppeldepup:\n",
    "    qwerty = json.load(huppeldepup)"
   ]
  },
  {
   "cell_type": "code",
   "execution_count": null,
   "id": "41f1f434",
   "metadata": {},
   "outputs": [],
   "source": [
    "qwerty['1']"
   ]
  },
  {
   "cell_type": "code",
   "execution_count": null,
   "id": "90b8dad7",
   "metadata": {},
   "outputs": [],
   "source": [
    "contacts = [\n",
    "    {},\n",
    "    {},\n",
    "    {}\n",
    "]\n",
    "\n",
    "while True:\n",
    "    n = input()\n",
    "    e = input()\n",
    "    t = input()\n",
    "    contacts.append({\n",
    "        \n",
    "    })"
   ]
  },
  {
   "cell_type": "markdown",
   "id": "584abe4f",
   "metadata": {},
   "source": [
    "## Excel bestanden"
   ]
  },
  {
   "cell_type": "code",
   "execution_count": null,
   "id": "be10061e",
   "metadata": {},
   "outputs": [],
   "source": [
    "import pandas as pd\n",
    "loc = 'lessenrooster_dagopleiding_data_scientist.xlsx'\n",
    "df = pd.read_excel(loc)"
   ]
  },
  {
   "cell_type": "code",
   "execution_count": null,
   "id": "903f666d",
   "metadata": {},
   "outputs": [],
   "source": [
    "for sheet_name in xlsx.sheet_names:\n",
    "    df = pd.read_excel(xlsx, sheet_name = sheet_name)\n",
    "    df['Datum'] = pd.to_datetime( df.Datum, format = '%Y-%m-%d' )\n",
    "    for plop, row in df.iterrows():\n",
    "        print(f\"Op {row['Datum'].strftime('%A')} staat Lokaal {row['Lokaal']}\")"
   ]
  },
  {
   "cell_type": "code",
   "execution_count": null,
   "id": "a3bf57da",
   "metadata": {},
   "outputs": [],
   "source": [
    "a = '12\\n12'\n",
    "print(a)"
   ]
  },
  {
   "cell_type": "code",
   "execution_count": null,
   "id": "6c826125",
   "metadata": {},
   "outputs": [],
   "source": [
    "df = pd.read_excel()"
   ]
  },
  {
   "cell_type": "code",
   "execution_count": null,
   "id": "082ec3d8",
   "metadata": {},
   "outputs": [],
   "source": [
    "xlsx.to_csv(\"hop.tsv\", sep = \"\\t\", index = False)"
   ]
  },
  {
   "cell_type": "code",
   "execution_count": null,
   "id": "65fb90a6",
   "metadata": {},
   "outputs": [],
   "source": [
    "{\n",
    "    'Sheet1' : df,\n",
    "    'Sheet2' : df_over_iets_anders,\n",
    "}"
   ]
  },
  {
   "cell_type": "code",
   "execution_count": null,
   "id": "507f422e",
   "metadata": {},
   "outputs": [],
   "source": [
    "import requests"
   ]
  },
  {
   "cell_type": "code",
   "execution_count": null,
   "id": "dc1ff495",
   "metadata": {},
   "outputs": [],
   "source": [
    "page = requests.get('https://www.zimmo.be/nl/stevoort-3512/te-koop/huis/KJKDM/?search=eyJmaWx0ZXIiOnsic3RhdHVzIjp7ImluIjpbIkZPUl9TQUxFIiwiVEFLRV9PVkVSIl19fX0%3D')"
   ]
  },
  {
   "cell_type": "code",
   "execution_count": null,
   "id": "a60e70b8",
   "metadata": {},
   "outputs": [],
   "source": [
    "requests.get??"
   ]
  },
  {
   "cell_type": "code",
   "execution_count": null,
   "id": "1b2115a3",
   "metadata": {},
   "outputs": [],
   "source": [
    "from bs4 import BeautifulSoup"
   ]
  },
  {
   "cell_type": "code",
   "execution_count": null,
   "id": "1bc1cd1c",
   "metadata": {},
   "outputs": [],
   "source": [
    "soup = BeautifulSoup(page.content, \"html.parser\")"
   ]
  },
  {
   "cell_type": "code",
   "execution_count": null,
   "id": "a6cf52bf",
   "metadata": {},
   "outputs": [],
   "source": [
    "soup.find"
   ]
  },
  {
   "cell_type": "markdown",
   "id": "21e81485",
   "metadata": {},
   "source": [
    "### Lokaal vs globaal"
   ]
  },
  {
   "cell_type": "code",
   "execution_count": null,
   "id": "2ff6bf03",
   "metadata": {},
   "outputs": [],
   "source": [
    "def fun(y):\n",
    "    return x * y\n",
    "\n",
    "fun(4)"
   ]
  },
  {
   "cell_type": "code",
   "execution_count": null,
   "id": "7636a3cb",
   "metadata": {},
   "outputs": [],
   "source": [
    "globals()['x']"
   ]
  },
  {
   "cell_type": "code",
   "execution_count": null,
   "id": "763b86b0",
   "metadata": {},
   "outputs": [],
   "source": [
    "'x' in globals()"
   ]
  },
  {
   "cell_type": "code",
   "execution_count": null,
   "id": "cf125538",
   "metadata": {},
   "outputs": [],
   "source": [
    "def fun2(x):\n",
    "    y = 2\n",
    "    return locals()"
   ]
  },
  {
   "cell_type": "code",
   "execution_count": null,
   "id": "f0e3a5b5",
   "metadata": {},
   "outputs": [],
   "source": [
    "plop = fun2(2)"
   ]
  },
  {
   "cell_type": "code",
   "execution_count": null,
   "id": "6079c3f4",
   "metadata": {},
   "outputs": [],
   "source": [
    "plop['q']"
   ]
  },
  {
   "cell_type": "code",
   "execution_count": null,
   "id": "73d35910",
   "metadata": {},
   "outputs": [],
   "source": [
    "qq = globals()"
   ]
  },
  {
   "cell_type": "code",
   "execution_count": null,
   "id": "d46d4e48",
   "metadata": {},
   "outputs": [],
   "source": [
    "type(qq)"
   ]
  },
  {
   "cell_type": "code",
   "execution_count": null,
   "id": "ced7a14d",
   "metadata": {},
   "outputs": [],
   "source": [
    "def fun():\n",
    "    return locals()"
   ]
  },
  {
   "cell_type": "code",
   "execution_count": null,
   "id": "a9cc2eef",
   "metadata": {},
   "outputs": [],
   "source": [
    "a = fun()"
   ]
  },
  {
   "cell_type": "code",
   "execution_count": null,
   "id": "1b5ce6bf",
   "metadata": {},
   "outputs": [],
   "source": [
    "a"
   ]
  },
  {
   "cell_type": "code",
   "execution_count": null,
   "id": "e28bc945",
   "metadata": {},
   "outputs": [],
   "source": [
    "func = lambda x, y : x + y"
   ]
  },
  {
   "cell_type": "code",
   "execution_count": null,
   "id": "5e3d8078",
   "metadata": {},
   "outputs": [],
   "source": [
    "def func(x, y):\n",
    "    return x + y"
   ]
  },
  {
   "cell_type": "code",
   "execution_count": null,
   "id": "090a8139",
   "metadata": {},
   "outputs": [],
   "source": [
    "group_to_idx = {\n",
    "    'very old' : 3,\n",
    "    'old' : 2,\n",
    "    'young' : 1,\n",
    "    'born' : 0\n",
    "}"
   ]
  },
  {
   "cell_type": "code",
   "execution_count": null,
   "id": "948c0055",
   "metadata": {},
   "outputs": [],
   "source": [
    "lst = ['old', 'old', 'young', 'born', 'born']"
   ]
  },
  {
   "cell_type": "code",
   "execution_count": null,
   "id": "5e2d88a5",
   "metadata": {},
   "outputs": [],
   "source": [
    "sorted(lst, \n",
    "           key=lambda age_group : group_to_idx[age_group],\n",
    "           reverse = True)"
   ]
  },
  {
   "cell_type": "code",
   "execution_count": null,
   "id": "31ec4925",
   "metadata": {},
   "outputs": [],
   "source": [
    "sorted?"
   ]
  },
  {
   "cell_type": "code",
   "execution_count": null,
   "id": "bff931b8",
   "metadata": {},
   "outputs": [],
   "source": [
    "import numpy as np\n",
    "def sorter(lst):\n",
    "    return sorted(lst,\n",
    "                     key = lambda x : (np.sin(x) + np.cos(x)) / np.tan(x))"
   ]
  },
  {
   "cell_type": "code",
   "execution_count": null,
   "id": "34d6bc5b",
   "metadata": {},
   "outputs": [],
   "source": [
    "lst_sorted = sorter([1,2,3])"
   ]
  },
  {
   "cell_type": "code",
   "execution_count": null,
   "id": "7b6bd659",
   "metadata": {},
   "outputs": [],
   "source": [
    "list(map(lambda x : (np.sin(x) + np.cos(x)) / np.tan(x), lst_sorted))"
   ]
  },
  {
   "cell_type": "code",
   "execution_count": null,
   "id": "ba46fad3",
   "metadata": {},
   "outputs": [],
   "source": [
    "def func(x : int, y : int):\n",
    "    \"\"\"\n",
    "    Dit is mijn docstring!\n",
    "    \"\"\"\n",
    "    assert(type(x) == int)\n",
    "    return x + y"
   ]
  },
  {
   "cell_type": "code",
   "execution_count": null,
   "id": "7b2e6eb6",
   "metadata": {},
   "outputs": [],
   "source": [
    "dit_is_een_string = \"\"\"sa\n",
    "dsa\n",
    "sad\n",
    "dsa\n",
    "asd\n",
    "sad\n",
    "dsa\n",
    "asd\n",
    "sda\n",
    "dsa\n",
    "sda\"\"\""
   ]
  },
  {
   "cell_type": "code",
   "execution_count": null,
   "id": "86a73760",
   "metadata": {},
   "outputs": [],
   "source": [
    "sorted([1,2,3], lambda x : x**2)"
   ]
  },
  {
   "cell_type": "code",
   "execution_count": null,
   "id": "16d83e88",
   "metadata": {},
   "outputs": [],
   "source": [
    "def fun(a, key = None):\n",
    "    return a"
   ]
  },
  {
   "cell_type": "code",
   "execution_count": null,
   "id": "2deb03e6",
   "metadata": {},
   "outputs": [],
   "source": [
    "print(sorted.__doc__)"
   ]
  },
  {
   "cell_type": "code",
   "execution_count": null,
   "id": "c7df1c6a",
   "metadata": {},
   "outputs": [],
   "source": [
    "x = 1"
   ]
  },
  {
   "cell_type": "code",
   "execution_count": null,
   "id": "7e01e8a4",
   "metadata": {},
   "outputs": [],
   "source": [
    "x.__eq__(1) # --> x == 1"
   ]
  },
  {
   "cell_type": "code",
   "execution_count": null,
   "id": "290b82d8",
   "metadata": {},
   "outputs": [],
   "source": [
    "a = [1,2,3]\n",
    "def fun(b):\n",
    "    b[1] = 1000000\n",
    "    return\n",
    "fun(a)\n",
    "print(a)"
   ]
  },
  {
   "cell_type": "code",
   "execution_count": null,
   "id": "84161f1f",
   "metadata": {},
   "outputs": [],
   "source": [
    "a = [1, 6, 2, 3]\n",
    "b = sorted(a)"
   ]
  },
  {
   "cell_type": "code",
   "execution_count": null,
   "id": "a9dd909f",
   "metadata": {},
   "outputs": [],
   "source": [
    "b = a.sort()"
   ]
  },
  {
   "cell_type": "code",
   "execution_count": null,
   "id": "059a8c29",
   "metadata": {},
   "outputs": [],
   "source": [
    "def fun(a):\n",
    "    a.sort()\n",
    "    return a"
   ]
  },
  {
   "cell_type": "code",
   "execution_count": null,
   "id": "47e22743",
   "metadata": {},
   "outputs": [],
   "source": [
    "b = fun(a)"
   ]
  },
  {
   "cell_type": "code",
   "execution_count": null,
   "id": "d1079c9e",
   "metadata": {},
   "outputs": [],
   "source": [
    "b"
   ]
  },
  {
   "cell_type": "code",
   "execution_count": null,
   "id": "3abe102a",
   "metadata": {},
   "outputs": [],
   "source": [
    "a =  [1, 2, [3, 4]]"
   ]
  },
  {
   "cell_type": "code",
   "execution_count": null,
   "id": "0f04f6df",
   "metadata": {},
   "outputs": [],
   "source": [
    "b = a.copy()"
   ]
  },
  {
   "cell_type": "code",
   "execution_count": null,
   "id": "960f784f",
   "metadata": {},
   "outputs": [],
   "source": [
    "b[-1][0] = 100"
   ]
  },
  {
   "cell_type": "code",
   "execution_count": null,
   "id": "341fd935",
   "metadata": {},
   "outputs": [],
   "source": [
    "a"
   ]
  },
  {
   "cell_type": "code",
   "execution_count": null,
   "id": "60ebfc02",
   "metadata": {},
   "outputs": [],
   "source": [
    "b"
   ]
  },
  {
   "cell_type": "code",
   "execution_count": null,
   "id": "facb354f",
   "metadata": {},
   "outputs": [],
   "source": [
    "from datetime import datetime, timedelta\n",
    "a = datetime(2020, 1, 1)\n",
    "b = a\n",
    "b += timedelta(days = 1000)"
   ]
  },
  {
   "cell_type": "code",
   "execution_count": null,
   "id": "c28eb60b",
   "metadata": {},
   "outputs": [],
   "source": [
    "b"
   ]
  },
  {
   "cell_type": "code",
   "execution_count": null,
   "id": "077665b3",
   "metadata": {},
   "outputs": [],
   "source": [
    "a"
   ]
  },
  {
   "cell_type": "code",
   "execution_count": null,
   "id": "7ae93d53",
   "metadata": {},
   "outputs": [],
   "source": []
  },
  {
   "cell_type": "code",
   "execution_count": null,
   "id": "ef566f2b",
   "metadata": {},
   "outputs": [],
   "source": [
    "import pandas as pd"
   ]
  },
  {
   "cell_type": "code",
   "execution_count": null,
   "id": "2b319dde",
   "metadata": {},
   "outputs": [],
   "source": [
    "df1 = pd.DataFrame({'1' : [1,2,3]})\n",
    "df2 = pd.DataFrame({'2' : [4, 5, 6]})\n",
    "lst = [df1, df2]\n",
    "lst2 = lst.copy()\n",
    "lst2[0].iloc[0,0] = 100\n",
    "lst"
   ]
  },
  {
   "cell_type": "code",
   "execution_count": null,
   "id": "6848f2c2",
   "metadata": {},
   "outputs": [],
   "source": [
    "from copy import deepcopy\n",
    "lst1 = [1, 5, 3, 2, 1, 4, [8, 3, 2, 1, 3]]\n",
    "lst2 = deepcopy(lst1)\n",
    "lst2[-1][-1] = 1000"
   ]
  },
  {
   "cell_type": "code",
   "execution_count": null,
   "id": "ec4e4b23",
   "metadata": {},
   "outputs": [],
   "source": [
    "def "
   ]
  },
  {
   "cell_type": "code",
   "execution_count": null,
   "id": "f9c282be",
   "metadata": {},
   "outputs": [],
   "source": [
    "dct = {1 : [1,2,3]}\n",
    "p = dct.copy()"
   ]
  },
  {
   "cell_type": "code",
   "execution_count": null,
   "id": "18867a21",
   "metadata": {},
   "outputs": [],
   "source": [
    "p[1][0]= 1000"
   ]
  },
  {
   "cell_type": "code",
   "execution_count": null,
   "id": "e039d333",
   "metadata": {},
   "outputs": [],
   "source": [
    "dct"
   ]
  },
  {
   "cell_type": "code",
   "execution_count": null,
   "id": "4ee01633",
   "metadata": {},
   "outputs": [],
   "source": [
    "df1"
   ]
  },
  {
   "cell_type": "code",
   "execution_count": null,
   "id": "c184412a",
   "metadata": {},
   "outputs": [],
   "source": [
    "df3 = df1"
   ]
  },
  {
   "cell_type": "code",
   "execution_count": null,
   "id": "9874dc4d",
   "metadata": {},
   "outputs": [],
   "source": [
    "df3.iloc[0,0] = -2"
   ]
  },
  {
   "cell_type": "code",
   "execution_count": null,
   "id": "a269bfe4",
   "metadata": {},
   "outputs": [],
   "source": [
    "df1"
   ]
  },
  {
   "cell_type": "code",
   "execution_count": 3,
   "id": "8f3299c5",
   "metadata": {},
   "outputs": [],
   "source": [
    "import datetime"
   ]
  },
  {
   "cell_type": "code",
   "execution_count": 7,
   "id": "38fcdce4",
   "metadata": {},
   "outputs": [],
   "source": [
    "datum = datetime.datetime(2020, 12, 12)"
   ]
  },
  {
   "cell_type": "code",
   "execution_count": 10,
   "id": "9e39f6bd",
   "metadata": {},
   "outputs": [
    {
     "data": {
      "text/plain": [
       "'Saturday'"
      ]
     },
     "execution_count": 10,
     "metadata": {},
     "output_type": "execute_result"
    }
   ],
   "source": [
    "datum.strftime(\"%A\")"
   ]
  },
  {
   "cell_type": "raw",
   "id": "0ba3c1d7",
   "metadata": {},
   "source": []
  },
  {
   "cell_type": "code",
   "execution_count": 36,
   "id": "f83ce3b8",
   "metadata": {},
   "outputs": [],
   "source": [
    "from dataclasses import dataclass\n",
    "\n",
    "@dataclass\n",
    "class Person:\n",
    "    name : str\n",
    "    def __init__(self, name):\n",
    "        self.name = name\n",
    "        \n",
    "    def __str__(self):\n",
    "        return self.name"
   ]
  },
  {
   "cell_type": "code",
   "execution_count": 37,
   "id": "7924409c",
   "metadata": {},
   "outputs": [],
   "source": [
    "\n",
    "ddasda"
   ]
  },
  {
   "cell_type": "code",
   "execution_count": 38,
   "id": "1383b8ec",
   "metadata": {},
   "outputs": [
    {
     "name": "stdout",
     "output_type": "stream",
     "text": [
      "Tim\n"
     ]
    }
   ],
   "source": [
    "for i in range(10):\n",
    "    print(i)"
   ]
  },
  {
   "cell_type": "code",
   "execution_count": 6,
   "id": "ba823fe4",
   "metadata": {},
   "outputs": [
    {
     "data": {
      "text/plain": [
       "[1, 2, 3]"
      ]
     },
     "execution_count": 6,
     "metadata": {},
     "output_type": "execute_result"
    }
   ],
   "source": [
    "import numpy as np\n",
    "a = [1,2,3]\n",
    "b = np.array(a, copy = False)\n",
    "b[1] = -10\n",
    "a"
   ]
  },
  {
   "cell_type": "code",
   "execution_count": 18,
   "id": "f8977260",
   "metadata": {},
   "outputs": [
    {
     "data": {
      "text/plain": [
       "array([0. , 0.3, 0.6, 0.9])"
      ]
     },
     "execution_count": 18,
     "metadata": {},
     "output_type": "execute_result"
    }
   ],
   "source": [
    "np.arange(0., 0.9001, 0.3)"
   ]
  },
  {
   "cell_type": "code",
   "execution_count": 15,
   "id": "4128d6d6",
   "metadata": {},
   "outputs": [
    {
     "data": {
      "text/plain": [
       "True"
      ]
     },
     "execution_count": 15,
     "metadata": {},
     "output_type": "execute_result"
    }
   ],
   "source": [
    "0.3 + 0.3 + 0.3 < 0.9"
   ]
  },
  {
   "cell_type": "code",
   "execution_count": 20,
   "id": "aba728d0",
   "metadata": {},
   "outputs": [],
   "source": [
    "a = np.ones(3)\n",
    "b = np.ones_like(a)"
   ]
  },
  {
   "cell_type": "code",
   "execution_count": 21,
   "id": "436aff1e",
   "metadata": {},
   "outputs": [
    {
     "data": {
      "text/plain": [
       "array([1., 1., 1.])"
      ]
     },
     "execution_count": 21,
     "metadata": {},
     "output_type": "execute_result"
    }
   ],
   "source": [
    "a"
   ]
  },
  {
   "cell_type": "code",
   "execution_count": 22,
   "id": "56828a3b",
   "metadata": {},
   "outputs": [
    {
     "data": {
      "text/plain": [
       "array([1., 1., 1.])"
      ]
     },
     "execution_count": 22,
     "metadata": {},
     "output_type": "execute_result"
    }
   ],
   "source": [
    "b"
   ]
  },
  {
   "cell_type": "code",
   "execution_count": 24,
   "id": "ab54b5f0",
   "metadata": {},
   "outputs": [
    {
     "data": {
      "text/plain": [
       "(2, 3)"
      ]
     },
     "execution_count": 24,
     "metadata": {},
     "output_type": "execute_result"
    }
   ],
   "source": [
    "a = np.array([[1,2,3], [4,5,6]])\n",
    "a.shape"
   ]
  },
  {
   "cell_type": "code",
   "execution_count": 25,
   "id": "e4b35771",
   "metadata": {},
   "outputs": [
    {
     "data": {
      "text/plain": [
       "array([0.5, 0.6, 0.7, 0.8])"
      ]
     },
     "execution_count": 25,
     "metadata": {},
     "output_type": "execute_result"
    }
   ],
   "source": [
    "np.arange(0.5, 0.8, 0.1)"
   ]
  },
  {
   "cell_type": "code",
   "execution_count": 27,
   "id": "2a37f793",
   "metadata": {},
   "outputs": [
    {
     "data": {
      "text/plain": [
       "9"
      ]
     },
     "execution_count": 27,
     "metadata": {},
     "output_type": "execute_result"
    }
   ],
   "source": [
    "np.max(np.random.randint(0, 10, 10 ** 6))"
   ]
  },
  {
   "cell_type": "code",
   "execution_count": 29,
   "id": "3718e5c8",
   "metadata": {},
   "outputs": [
    {
     "data": {
      "text/plain": [
       "10"
      ]
     },
     "execution_count": 29,
     "metadata": {},
     "output_type": "execute_result"
    }
   ],
   "source": [
    "import random\n",
    "\n",
    "np.max([random.randint(0, 10) for _ in range(10 ** 6)])"
   ]
  },
  {
   "cell_type": "code",
   "execution_count": 41,
   "id": "c4343d8c",
   "metadata": {},
   "outputs": [
    {
     "data": {
      "text/plain": [
       "19.0"
      ]
     },
     "execution_count": 41,
     "metadata": {},
     "output_type": "execute_result"
    }
   ],
   "source": [
    "a = np.arange(1, 20, dtype = float)\n",
    "a[1] = np.nan\n",
    "np.nanmax(a)"
   ]
  },
  {
   "cell_type": "code",
   "execution_count": 43,
   "id": "2edea4f6",
   "metadata": {},
   "outputs": [
    {
     "data": {
      "text/plain": [
       "2.0"
      ]
     },
     "execution_count": 43,
     "metadata": {},
     "output_type": "execute_result"
    }
   ],
   "source": [
    "a = np.array([1, np.nan, 3])\n",
    "np.nanmean(a)"
   ]
  },
  {
   "cell_type": "code",
   "execution_count": null,
   "id": "675b9200",
   "metadata": {},
   "outputs": [],
   "source": []
  }
 ],
 "metadata": {
  "kernelspec": {
   "display_name": "Python 3 (ipykernel)",
   "language": "python",
   "name": "python3"
  },
  "language_info": {
   "codemirror_mode": {
    "name": "ipython",
    "version": 3
   },
   "file_extension": ".py",
   "mimetype": "text/x-python",
   "name": "python",
   "nbconvert_exporter": "python",
   "pygments_lexer": "ipython3",
   "version": "3.9.13"
  }
 },
 "nbformat": 4,
 "nbformat_minor": 5
}
